{
 "cells": [
  {
   "cell_type": "markdown",
   "id": "ff54cbc7",
   "metadata": {},
   "source": [
    "### Importation des bibliothèques nécessaires"
   ]
  },
  {
   "cell_type": "code",
   "execution_count": null,
   "id": "4d411dd5",
   "metadata": {},
   "outputs": [],
   "source": [
    "from urllib.request import urlopen\n",
    "import json\n",
    "import numpy as np\n",
    "import pandas as pd\n",
    "import plotly.express as px"
   ]
  },
  {
   "cell_type": "markdown",
   "id": "c99b1d93",
   "metadata": {},
   "source": [
    "### Ouverture du lien json pour avoir les coordonnées départements"
   ]
  },
  {
   "cell_type": "code",
   "execution_count": null,
   "id": "27b5b327",
   "metadata": {},
   "outputs": [],
   "source": [
    "with urlopen('https://france-geojson.gregoiredavid.fr/repo/departements.geojson') as response:\n",
    "    fr_departement = json.load(response)"
   ]
  },
  {
   "cell_type": "markdown",
   "id": "c2399a23",
   "metadata": {},
   "source": [
    "### Faire en sorte que l'affichage des GeoMap se fasse sur le notebook"
   ]
  },
  {
   "cell_type": "code",
   "execution_count": 2,
   "id": "3c460ef7",
   "metadata": {},
   "outputs": [],
   "source": [
    "import plotly.io as pio\n",
    "pio.renderers.default = 'notebook'"
   ]
  },
  {
   "cell_type": "markdown",
   "id": "1a90cfa8",
   "metadata": {},
   "source": [
    "### Créer un dictionnaire permettant de récupérer l'id et le nom de chaque département du json"
   ]
  },
  {
   "cell_type": "code",
   "execution_count": 3,
   "id": "72d24fad",
   "metadata": {},
   "outputs": [
    {
     "data": {
      "text/plain": [
       "'10'"
      ]
     },
     "execution_count": 3,
     "metadata": {},
     "output_type": "execute_result"
    }
   ],
   "source": [
    "departement_id_map={}\n",
    "for feature in fr_departement['features']:\n",
    "    feature['id'] = feature['properties']['code']\n",
    "    departement_id_map[feature['properties']['nom']]=feature['id']"
   ]
  },
  {
   "cell_type": "markdown",
   "id": "3ce87559",
   "metadata": {},
   "source": [
    "### Chargement des fichiers csv "
   ]
  },
  {
   "cell_type": "code",
   "execution_count": null,
   "id": "30b4c74f",
   "metadata": {},
   "outputs": [],
   "source": [
    "df = pd.read_csv(\"valeursfoncieres-2021.txt\", sep=\"|\", decimal =\",\")\n",
    "departement = pd.read_csv(\"departements-france.csv\", sep=\",\")"
   ]
  },
  {
   "cell_type": "markdown",
   "id": "6e74736b",
   "metadata": {},
   "source": [
    "### Jointure entre le dataset et le fichier departements-france"
   ]
  },
  {
   "cell_type": "code",
   "execution_count": 7,
   "id": "13ba16d6",
   "metadata": {},
   "outputs": [],
   "source": [
    "df = df.join(departement, on='Code departement',how='right', lsuffix='_left', rsuffix='_right')"
   ]
  },
  {
   "cell_type": "markdown",
   "id": "a9de364d",
   "metadata": {},
   "source": [
    "### Rendre la colonne code departement float"
   ]
  },
  {
   "cell_type": "code",
   "execution_count": 8,
   "id": "879a8925",
   "metadata": {},
   "outputs": [],
   "source": [
    "df['Code departement_right'] = pd.to_numeric(df['Code departement_right'], errors = 'coerce', downcast = 'float')"
   ]
  },
  {
   "cell_type": "markdown",
   "id": "8441947b",
   "metadata": {},
   "source": [
    "### Remplir les colonnes nulles code_departement_right avec 0"
   ]
  },
  {
   "cell_type": "code",
   "execution_count": 9,
   "id": "ef63d101",
   "metadata": {},
   "outputs": [],
   "source": [
    "df['Code departement_right'] = df['Code departement_right'].fillna(0)"
   ]
  },
  {
   "cell_type": "markdown",
   "id": "830896c8",
   "metadata": {},
   "source": [
    "### Création d'une colonne id qui va permettre de lier chaque nom_departement avec l'id du dictionnaire"
   ]
  },
  {
   "cell_type": "code",
   "execution_count": 10,
   "id": "7f9bc488",
   "metadata": {},
   "outputs": [],
   "source": [
    "df['id'] = df['nom_departement'].apply(lambda x: departement_id_map[x])"
   ]
  },
  {
   "cell_type": "markdown",
   "id": "75cfaf02",
   "metadata": {},
   "source": [
    "### Création des dataframe servant pour le plot de choropleth"
   ]
  },
  {
   "cell_type": "code",
   "execution_count": 21,
   "id": "43e3a3d4",
   "metadata": {},
   "outputs": [],
   "source": [
    "df2 = pd.DataFrame(df.groupby('id')['Valeur fonciere'].sum())\n",
    "df2['Valeur fonciere norm'] = np.log10(df2['Valeur fonciere'])\n",
    "df2\n",
    "\n",
    "df3 = pd.DataFrame(df.groupby('id')['Surface terrain'].sum())\n",
    "df3\n",
    "\n",
    "df4 = pd.DataFrame(df.groupby('id')['Surface reelle bati'].sum())\n",
    "df4\n",
    "\n",
    "df4['Prix m2'] = df2['Valeur fonciere']/df4['Surface reelle bati']"
   ]
  },
  {
   "cell_type": "markdown",
   "id": "909914d2",
   "metadata": {},
   "source": [
    "### la Valeur foncière"
   ]
  },
  {
   "cell_type": "code",
   "execution_count": null,
   "id": "d015ffe9",
   "metadata": {},
   "outputs": [],
   "source": [
    "fig = px.choropleth(df2, locations=df2.index, geojson=fr_departement, color=\"Valeur fonciere norm\", scope=\"europe\")\n",
    "fig.update_geos(fitbounds=\"locations\", visible=False)\n",
    "fig.show()"
   ]
  },
  {
   "cell_type": "markdown",
   "id": "69e2b764",
   "metadata": {},
   "source": [
    "### la Surface terrain"
   ]
  },
  {
   "cell_type": "code",
   "execution_count": null,
   "id": "5097e618",
   "metadata": {},
   "outputs": [],
   "source": [
    "fig = px.choropleth(df3, locations=df3.index, geojson=fr_departement, color=\"Surface terrain\", scope=\"europe\")\n",
    "fig.update_geos(fitbounds=\"locations\", visible=False)\n",
    "fig.show()"
   ]
  },
  {
   "cell_type": "markdown",
   "id": "beb18409",
   "metadata": {},
   "source": [
    "###  la Surface reelle bati"
   ]
  },
  {
   "cell_type": "code",
   "execution_count": null,
   "id": "aa326202",
   "metadata": {},
   "outputs": [],
   "source": [
    "fig = px.choropleth(df4, locations=df4.index, geojson=fr_departement, color=\"Surface reelle bati\", scope=\"europe\")\n",
    "fig.update_geos(fitbounds=\"locations\", visible=False)\n",
    "fig.show()"
   ]
  },
  {
   "cell_type": "markdown",
   "id": "d54c8109",
   "metadata": {},
   "source": [
    "###  Prix au m²"
   ]
  },
  {
   "cell_type": "code",
   "execution_count": null,
   "id": "0f3ef174",
   "metadata": {},
   "outputs": [],
   "source": [
    "fig = px.choropleth(df4, locations=df4.index, geojson=fr_departement, color=\"Prix m2\", scope=\"europe\")\n",
    "fig.update_geos(fitbounds=\"locations\", visible=False)\n",
    "fig.show()"
   ]
  }
 ],
 "metadata": {
  "kernelspec": {
   "display_name": "Python 3",
   "language": "python",
   "name": "python3"
  },
  "language_info": {
   "codemirror_mode": {
    "name": "ipython",
    "version": 3
   },
   "file_extension": ".py",
   "mimetype": "text/x-python",
   "name": "python",
   "nbconvert_exporter": "python",
   "pygments_lexer": "ipython3",
   "version": "3.8.8"
  }
 },
 "nbformat": 4,
 "nbformat_minor": 5
}
